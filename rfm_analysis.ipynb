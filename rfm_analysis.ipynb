{
 "cells": [
  {
   "cell_type": "markdown",
   "metadata": {},
   "source": [
    "## Load Library"
   ]
  },
  {
   "cell_type": "code",
   "execution_count": 153,
   "metadata": {},
   "outputs": [],
   "source": [
    "import pandas as pd\n",
    "import numpy as np\n",
    "import matplotlib.pyplot as plt\n",
    "import seaborn as sns\n",
    "from datetime import datetime\n",
    "\n",
    "import warnings\n",
    "warnings.filterwarnings(\"ignore\")\n",
    "\n",
    "#set number to .2 decimal\n",
    "pd.options.display.float_format = '{:,.2f}'.format"
   ]
  },
  {
   "cell_type": "markdown",
   "metadata": {},
   "source": [
    "## Data Preprocessing"
   ]
  },
  {
   "cell_type": "markdown",
   "metadata": {},
   "source": [
    "Dataset for this analysis is from https://www.kaggle.com/datasets/carrie1/ecommerce-data?resource=download"
   ]
  },
  {
   "cell_type": "code",
   "execution_count": 6,
   "metadata": {},
   "outputs": [
    {
     "name": "stdout",
     "output_type": "stream",
     "text": [
      "<class 'pandas.core.frame.DataFrame'>\n",
      "RangeIndex: 541909 entries, 0 to 541908\n",
      "Data columns (total 8 columns):\n",
      " #   Column       Non-Null Count   Dtype  \n",
      "---  ------       --------------   -----  \n",
      " 0   InvoiceNo    541909 non-null  object \n",
      " 1   StockCode    541909 non-null  object \n",
      " 2   Description  540455 non-null  object \n",
      " 3   Quantity     541909 non-null  int64  \n",
      " 4   InvoiceDate  541909 non-null  object \n",
      " 5   UnitPrice    541909 non-null  float64\n",
      " 6   CustomerID   406829 non-null  float64\n",
      " 7   Country      541909 non-null  object \n",
      "dtypes: float64(2), int64(1), object(5)\n",
      "memory usage: 33.1+ MB\n"
     ]
    }
   ],
   "source": [
    "#load dataset\n",
    "df = pd.read_csv('assets/data.csv', encoding='ISO-8859-1') #this dataset has some problem with default UTF-8 encoding\n",
    "\n",
    "#see data information\n",
    "df.info()"
   ]
  },
  {
   "cell_type": "markdown",
   "metadata": {},
   "source": [
    "### Handle Missing Value"
   ]
  },
  {
   "cell_type": "code",
   "execution_count": 5,
   "metadata": {},
   "outputs": [
    {
     "name": "stdout",
     "output_type": "stream",
     "text": [
      "InvoiceNo           0\n",
      "StockCode           0\n",
      "Description      1454\n",
      "Quantity            0\n",
      "InvoiceDate         0\n",
      "UnitPrice           0\n",
      "CustomerID     135080\n",
      "Country             0\n",
      "dtype: int64\n"
     ]
    },
    {
     "data": {
      "text/html": [
       "<div>\n",
       "<style scoped>\n",
       "    .dataframe tbody tr th:only-of-type {\n",
       "        vertical-align: middle;\n",
       "    }\n",
       "\n",
       "    .dataframe tbody tr th {\n",
       "        vertical-align: top;\n",
       "    }\n",
       "\n",
       "    .dataframe thead th {\n",
       "        text-align: right;\n",
       "    }\n",
       "</style>\n",
       "<table border=\"1\" class=\"dataframe\">\n",
       "  <thead>\n",
       "    <tr style=\"text-align: right;\">\n",
       "      <th></th>\n",
       "      <th>InvoiceNo</th>\n",
       "      <th>StockCode</th>\n",
       "      <th>Description</th>\n",
       "      <th>Quantity</th>\n",
       "      <th>InvoiceDate</th>\n",
       "      <th>UnitPrice</th>\n",
       "      <th>CustomerID</th>\n",
       "      <th>Country</th>\n",
       "    </tr>\n",
       "  </thead>\n",
       "  <tbody>\n",
       "    <tr>\n",
       "      <th>0</th>\n",
       "      <td>536365</td>\n",
       "      <td>85123A</td>\n",
       "      <td>WHITE HANGING HEART T-LIGHT HOLDER</td>\n",
       "      <td>6</td>\n",
       "      <td>12/1/2010 8:26</td>\n",
       "      <td>2.55</td>\n",
       "      <td>17,850.00</td>\n",
       "      <td>United Kingdom</td>\n",
       "    </tr>\n",
       "    <tr>\n",
       "      <th>1</th>\n",
       "      <td>536365</td>\n",
       "      <td>71053</td>\n",
       "      <td>WHITE METAL LANTERN</td>\n",
       "      <td>6</td>\n",
       "      <td>12/1/2010 8:26</td>\n",
       "      <td>3.39</td>\n",
       "      <td>17,850.00</td>\n",
       "      <td>United Kingdom</td>\n",
       "    </tr>\n",
       "    <tr>\n",
       "      <th>2</th>\n",
       "      <td>536365</td>\n",
       "      <td>84406B</td>\n",
       "      <td>CREAM CUPID HEARTS COAT HANGER</td>\n",
       "      <td>8</td>\n",
       "      <td>12/1/2010 8:26</td>\n",
       "      <td>2.75</td>\n",
       "      <td>17,850.00</td>\n",
       "      <td>United Kingdom</td>\n",
       "    </tr>\n",
       "    <tr>\n",
       "      <th>3</th>\n",
       "      <td>536365</td>\n",
       "      <td>84029G</td>\n",
       "      <td>KNITTED UNION FLAG HOT WATER BOTTLE</td>\n",
       "      <td>6</td>\n",
       "      <td>12/1/2010 8:26</td>\n",
       "      <td>3.39</td>\n",
       "      <td>17,850.00</td>\n",
       "      <td>United Kingdom</td>\n",
       "    </tr>\n",
       "    <tr>\n",
       "      <th>4</th>\n",
       "      <td>536365</td>\n",
       "      <td>84029E</td>\n",
       "      <td>RED WOOLLY HOTTIE WHITE HEART.</td>\n",
       "      <td>6</td>\n",
       "      <td>12/1/2010 8:26</td>\n",
       "      <td>3.39</td>\n",
       "      <td>17,850.00</td>\n",
       "      <td>United Kingdom</td>\n",
       "    </tr>\n",
       "  </tbody>\n",
       "</table>\n",
       "</div>"
      ],
      "text/plain": [
       "  InvoiceNo StockCode                          Description  Quantity  \\\n",
       "0    536365    85123A   WHITE HANGING HEART T-LIGHT HOLDER         6   \n",
       "1    536365     71053                  WHITE METAL LANTERN         6   \n",
       "2    536365    84406B       CREAM CUPID HEARTS COAT HANGER         8   \n",
       "3    536365    84029G  KNITTED UNION FLAG HOT WATER BOTTLE         6   \n",
       "4    536365    84029E       RED WOOLLY HOTTIE WHITE HEART.         6   \n",
       "\n",
       "      InvoiceDate  UnitPrice  CustomerID         Country  \n",
       "0  12/1/2010 8:26       2.55   17,850.00  United Kingdom  \n",
       "1  12/1/2010 8:26       3.39   17,850.00  United Kingdom  \n",
       "2  12/1/2010 8:26       2.75   17,850.00  United Kingdom  \n",
       "3  12/1/2010 8:26       3.39   17,850.00  United Kingdom  \n",
       "4  12/1/2010 8:26       3.39   17,850.00  United Kingdom  "
      ]
     },
     "execution_count": 5,
     "metadata": {},
     "output_type": "execute_result"
    }
   ],
   "source": [
    "print(df.isnull().sum())\n",
    "df.head()"
   ]
  },
  {
   "cell_type": "markdown",
   "metadata": {},
   "source": [
    "There are 135k row transaction with Null Customer ID. There are 2 ways to deal with this; impute or drop the null values. In this analysis, because we want to identify customer segment and there are no other consideration, we go with drop the null values"
   ]
  },
  {
   "cell_type": "code",
   "execution_count": 88,
   "metadata": {},
   "outputs": [
    {
     "name": "stdout",
     "output_type": "stream",
     "text": [
      "<class 'pandas.core.frame.DataFrame'>\n",
      "Index: 406829 entries, 0 to 541908\n",
      "Data columns (total 8 columns):\n",
      " #   Column       Non-Null Count   Dtype  \n",
      "---  ------       --------------   -----  \n",
      " 0   InvoiceNo    406829 non-null  object \n",
      " 1   StockCode    406829 non-null  object \n",
      " 2   Description  406829 non-null  object \n",
      " 3   Quantity     406829 non-null  int64  \n",
      " 4   InvoiceDate  406829 non-null  object \n",
      " 5   UnitPrice    406829 non-null  float64\n",
      " 6   CustomerID   406829 non-null  float64\n",
      " 7   Country      406829 non-null  object \n",
      "dtypes: float64(2), int64(1), object(5)\n",
      "memory usage: 27.9+ MB\n"
     ]
    }
   ],
   "source": [
    "df_1 = df.dropna(subset='CustomerID')\n",
    "df_1.info()"
   ]
  },
  {
   "cell_type": "markdown",
   "metadata": {},
   "source": [
    "There are no missing value after we drop row null value by CustomerID"
   ]
  },
  {
   "cell_type": "markdown",
   "metadata": {},
   "source": [
    "### Changing Data Types"
   ]
  },
  {
   "cell_type": "code",
   "execution_count": 89,
   "metadata": {},
   "outputs": [
    {
     "name": "stdout",
     "output_type": "stream",
     "text": [
      "<class 'pandas.core.frame.DataFrame'>\n",
      "Index: 406829 entries, 0 to 541908\n",
      "Data columns (total 8 columns):\n",
      " #   Column       Non-Null Count   Dtype  \n",
      "---  ------       --------------   -----  \n",
      " 0   InvoiceNo    406829 non-null  object \n",
      " 1   StockCode    406829 non-null  object \n",
      " 2   Description  406829 non-null  object \n",
      " 3   Quantity     406829 non-null  int64  \n",
      " 4   InvoiceDate  406829 non-null  object \n",
      " 5   UnitPrice    406829 non-null  float64\n",
      " 6   CustomerID   406829 non-null  float64\n",
      " 7   Country      406829 non-null  object \n",
      "dtypes: float64(2), int64(1), object(5)\n",
      "memory usage: 27.9+ MB\n"
     ]
    }
   ],
   "source": [
    "df_1.info()"
   ]
  },
  {
   "cell_type": "markdown",
   "metadata": {},
   "source": [
    "Changing data types:\n",
    "* Invoice Date  : datetime\n",
    "* CustomerID    : int"
   ]
  },
  {
   "cell_type": "code",
   "execution_count": 143,
   "metadata": {},
   "outputs": [],
   "source": [
    "#changing invoice date into datetime type\n",
    "df_1['InvoiceDate'] = pd.to_datetime(df_1['InvoiceDate'])\n",
    "\n",
    "#changing CustomerID to object\n",
    "df_1['CustomerID'] = df_1['CustomerID'].astype('int')"
   ]
  },
  {
   "cell_type": "code",
   "execution_count": 91,
   "metadata": {},
   "outputs": [
    {
     "name": "stdout",
     "output_type": "stream",
     "text": [
      "<class 'pandas.core.frame.DataFrame'>\n",
      "Index: 406829 entries, 0 to 541908\n",
      "Data columns (total 8 columns):\n",
      " #   Column       Non-Null Count   Dtype         \n",
      "---  ------       --------------   -----         \n",
      " 0   InvoiceNo    406829 non-null  object        \n",
      " 1   StockCode    406829 non-null  object        \n",
      " 2   Description  406829 non-null  object        \n",
      " 3   Quantity     406829 non-null  int64         \n",
      " 4   InvoiceDate  406829 non-null  datetime64[ns]\n",
      " 5   UnitPrice    406829 non-null  float64       \n",
      " 6   CustomerID   406829 non-null  int64         \n",
      " 7   Country      406829 non-null  object        \n",
      "dtypes: datetime64[ns](1), float64(1), int64(2), object(4)\n",
      "memory usage: 27.9+ MB\n"
     ]
    }
   ],
   "source": [
    "df_1.info()"
   ]
  },
  {
   "cell_type": "markdown",
   "metadata": {},
   "source": [
    "### Handle Return Transaction"
   ]
  },
  {
   "cell_type": "code",
   "execution_count": 92,
   "metadata": {},
   "outputs": [
    {
     "data": {
      "text/html": [
       "<div>\n",
       "<style scoped>\n",
       "    .dataframe tbody tr th:only-of-type {\n",
       "        vertical-align: middle;\n",
       "    }\n",
       "\n",
       "    .dataframe tbody tr th {\n",
       "        vertical-align: top;\n",
       "    }\n",
       "\n",
       "    .dataframe thead th {\n",
       "        text-align: right;\n",
       "    }\n",
       "</style>\n",
       "<table border=\"1\" class=\"dataframe\">\n",
       "  <thead>\n",
       "    <tr style=\"text-align: right;\">\n",
       "      <th></th>\n",
       "      <th>Quantity</th>\n",
       "      <th>InvoiceDate</th>\n",
       "      <th>UnitPrice</th>\n",
       "      <th>CustomerID</th>\n",
       "    </tr>\n",
       "  </thead>\n",
       "  <tbody>\n",
       "    <tr>\n",
       "      <th>count</th>\n",
       "      <td>406,829.00</td>\n",
       "      <td>406829</td>\n",
       "      <td>406,829.00</td>\n",
       "      <td>406,829.00</td>\n",
       "    </tr>\n",
       "    <tr>\n",
       "      <th>mean</th>\n",
       "      <td>12.06</td>\n",
       "      <td>2011-07-10 16:30:57.879207424</td>\n",
       "      <td>3.46</td>\n",
       "      <td>15,287.69</td>\n",
       "    </tr>\n",
       "    <tr>\n",
       "      <th>min</th>\n",
       "      <td>-80,995.00</td>\n",
       "      <td>2010-12-01 08:26:00</td>\n",
       "      <td>0.00</td>\n",
       "      <td>12,346.00</td>\n",
       "    </tr>\n",
       "    <tr>\n",
       "      <th>25%</th>\n",
       "      <td>2.00</td>\n",
       "      <td>2011-04-06 15:02:00</td>\n",
       "      <td>1.25</td>\n",
       "      <td>13,953.00</td>\n",
       "    </tr>\n",
       "    <tr>\n",
       "      <th>50%</th>\n",
       "      <td>5.00</td>\n",
       "      <td>2011-07-31 11:48:00</td>\n",
       "      <td>1.95</td>\n",
       "      <td>15,152.00</td>\n",
       "    </tr>\n",
       "    <tr>\n",
       "      <th>75%</th>\n",
       "      <td>12.00</td>\n",
       "      <td>2011-10-20 13:06:00</td>\n",
       "      <td>3.75</td>\n",
       "      <td>16,791.00</td>\n",
       "    </tr>\n",
       "    <tr>\n",
       "      <th>max</th>\n",
       "      <td>80,995.00</td>\n",
       "      <td>2011-12-09 12:50:00</td>\n",
       "      <td>38,970.00</td>\n",
       "      <td>18,287.00</td>\n",
       "    </tr>\n",
       "    <tr>\n",
       "      <th>std</th>\n",
       "      <td>248.69</td>\n",
       "      <td>NaN</td>\n",
       "      <td>69.32</td>\n",
       "      <td>1,713.60</td>\n",
       "    </tr>\n",
       "  </tbody>\n",
       "</table>\n",
       "</div>"
      ],
      "text/plain": [
       "        Quantity                    InvoiceDate  UnitPrice  CustomerID\n",
       "count 406,829.00                         406829 406,829.00  406,829.00\n",
       "mean       12.06  2011-07-10 16:30:57.879207424       3.46   15,287.69\n",
       "min   -80,995.00            2010-12-01 08:26:00       0.00   12,346.00\n",
       "25%         2.00            2011-04-06 15:02:00       1.25   13,953.00\n",
       "50%         5.00            2011-07-31 11:48:00       1.95   15,152.00\n",
       "75%        12.00            2011-10-20 13:06:00       3.75   16,791.00\n",
       "max    80,995.00            2011-12-09 12:50:00  38,970.00   18,287.00\n",
       "std       248.69                            NaN      69.32    1,713.60"
      ]
     },
     "execution_count": 92,
     "metadata": {},
     "output_type": "execute_result"
    }
   ],
   "source": [
    "df_1.describe()"
   ]
  },
  {
   "cell_type": "code",
   "execution_count": 93,
   "metadata": {},
   "outputs": [
    {
     "name": "stdout",
     "output_type": "stream",
     "text": [
      "Jumlah Return sebanyak 8905 atau 2.19% dari total data\n"
     ]
    }
   ],
   "source": [
    "len_return = len(df_1[df_1['Quantity'] < 0])\n",
    "len_data = len(df_1)\n",
    "ratio_return = len_return/len_data * 100.0\n",
    "\n",
    "print(f\"Jumlah Return sebanyak {len_return} atau {round(ratio_return,2)}% dari total data\")"
   ]
  },
  {
   "cell_type": "code",
   "execution_count": 94,
   "metadata": {},
   "outputs": [
    {
     "name": "stdout",
     "output_type": "stream",
     "text": [
      "['C']\n"
     ]
    }
   ],
   "source": [
    "#check return data\n",
    "df_return = df_1[df_1['Quantity'] < 0]\n",
    "\n",
    "print(df_return.InvoiceNo.str[:1].unique())"
   ]
  },
  {
   "cell_type": "code",
   "execution_count": 144,
   "metadata": {},
   "outputs": [
    {
     "name": "stdout",
     "output_type": "stream",
     "text": [
      "8905\n",
      "0\n"
     ]
    }
   ],
   "source": [
    "df_return['InvoiceNo_initial'] = df_return['InvoiceNo'].str[1:]\n",
    "\n",
    "df_initial = df_1[df_1['InvoiceNo'].isin(list(df_return['InvoiceNo_initial'].unique()))]\n",
    "\n",
    "print(len(df_return))\n",
    "print(len(df_initial))"
   ]
  },
  {
   "cell_type": "markdown",
   "metadata": {},
   "source": [
    "Tidak ada initial transaction ditemukan pada data return, dikarenakan data return tidak terlalu berpengaruh pada data analysis kali ini, maka kita drop saja data returnnya"
   ]
  },
  {
   "cell_type": "code",
   "execution_count": 96,
   "metadata": {},
   "outputs": [],
   "source": [
    "#drop data return\n",
    "df_2 = df_1[\n",
    "    df_1['Quantity'] >= 0\n",
    "]"
   ]
  },
  {
   "cell_type": "code",
   "execution_count": 97,
   "metadata": {},
   "outputs": [
    {
     "name": "stdout",
     "output_type": "stream",
     "text": [
      "Numeric Columns Description:\n",
      "        Quantity  UnitPrice  CustomerID\n",
      "count 397,924.00 397,924.00  397,924.00\n",
      "mean       13.02       3.12   15,294.32\n",
      "std       180.42      22.10    1,713.17\n",
      "min         1.00       0.00   12,346.00\n",
      "25%         2.00       1.25   13,969.00\n",
      "50%         6.00       1.95   15,159.00\n",
      "75%        12.00       3.75   16,795.00\n",
      "max    80,995.00   8,142.75   18,287.00\n",
      "\n",
      "Categorical Columns Description:\n",
      "                         InvoiceDate\n",
      "count                         397924\n",
      "mean   2011-07-10 23:43:36.912475648\n",
      "min              2010-12-01 08:26:00\n",
      "25%              2011-04-07 11:12:00\n",
      "50%              2011-07-31 14:39:00\n",
      "75%              2011-10-20 14:33:00\n",
      "max              2011-12-09 12:50:00\n"
     ]
    }
   ],
   "source": [
    "# Separate numeric and categorical columns\n",
    "numeric_cols = df_2.select_dtypes(include=['number'])  # Select numeric columns\n",
    "categorical_cols = df_2.select_dtypes(exclude=['number'])  # Select categorical columns\n",
    "\n",
    "# Describe numeric columns\n",
    "print(\"Numeric Columns Description:\")\n",
    "print(numeric_cols.describe())\n",
    "\n",
    "# Describe categorical columns\n",
    "print(\"\\nCategorical Columns Description:\")\n",
    "print(categorical_cols.describe())"
   ]
  },
  {
   "cell_type": "markdown",
   "metadata": {},
   "source": [
    "### Handling Unit Price == 0"
   ]
  },
  {
   "cell_type": "code",
   "execution_count": 113,
   "metadata": {},
   "outputs": [
    {
     "name": "stdout",
     "output_type": "stream",
     "text": [
      "      InvoiceNo StockCode                   Description  Quantity  \\\n",
      "9302     537197     22841  ROUND CAKE TIN VINTAGE GREEN         1   \n",
      "33576    539263     22580  ADVENT CALENDAR GINGHAM SACK         4   \n",
      "40089    539722     22423      REGENCY CAKESTAND 3 TIER        10   \n",
      "47068    540372     22090       PAPER BUNTING RETROSPOT        24   \n",
      "47070    540372     22553        PLASTERS IN TIN SKULLS        24   \n",
      "\n",
      "              InvoiceDate  UnitPrice  CustomerID         Country  \n",
      "9302  2010-12-05 14:02:00       0.00       12647         Germany  \n",
      "33576 2010-12-16 14:36:00       0.00       16560  United Kingdom  \n",
      "40089 2010-12-21 13:45:00       0.00       14911            EIRE  \n",
      "47068 2011-01-06 16:41:00       0.00       13081  United Kingdom  \n",
      "47070 2011-01-06 16:41:00       0.00       13081  United Kingdom  \n",
      "Ada 40 data yang unit pricenya 0\n"
     ]
    }
   ],
   "source": [
    "print(df_2[df_2['UnitPrice'] == 0].head())\n",
    "print(f\"Ada {len(df_2[df_2['UnitPrice'] == 0])} data yang unit pricenya 0\")"
   ]
  },
  {
   "cell_type": "code",
   "execution_count": null,
   "metadata": {},
   "outputs": [
    {
     "data": {
      "text/html": [
       "<div>\n",
       "<style scoped>\n",
       "    .dataframe tbody tr th:only-of-type {\n",
       "        vertical-align: middle;\n",
       "    }\n",
       "\n",
       "    .dataframe tbody tr th {\n",
       "        vertical-align: top;\n",
       "    }\n",
       "\n",
       "    .dataframe thead th {\n",
       "        text-align: right;\n",
       "    }\n",
       "</style>\n",
       "<table border=\"1\" class=\"dataframe\">\n",
       "  <thead>\n",
       "    <tr style=\"text-align: right;\">\n",
       "      <th></th>\n",
       "      <th>Description</th>\n",
       "      <th>InvoiceNo</th>\n",
       "      <th>Quantity</th>\n",
       "    </tr>\n",
       "  </thead>\n",
       "  <tbody>\n",
       "    <tr>\n",
       "      <th>0</th>\n",
       "      <td>OVAL WALL MIRROR DIAMANTE</td>\n",
       "      <td>1</td>\n",
       "      <td>1</td>\n",
       "    </tr>\n",
       "    <tr>\n",
       "      <th>1</th>\n",
       "      <td>36 FOIL STAR CAKE CASES</td>\n",
       "      <td>1</td>\n",
       "      <td>144</td>\n",
       "    </tr>\n",
       "    <tr>\n",
       "      <th>2</th>\n",
       "      <td>ADVENT CALENDAR GINGHAM SACK</td>\n",
       "      <td>1</td>\n",
       "      <td>4</td>\n",
       "    </tr>\n",
       "    <tr>\n",
       "      <th>3</th>\n",
       "      <td>ASSTD DESIGN 3D PAPER STICKERS</td>\n",
       "      <td>1</td>\n",
       "      <td>12540</td>\n",
       "    </tr>\n",
       "    <tr>\n",
       "      <th>4</th>\n",
       "      <td>BISCUIT TIN VINTAGE CHRISTMAS</td>\n",
       "      <td>1</td>\n",
       "      <td>216</td>\n",
       "    </tr>\n",
       "    <tr>\n",
       "      <th>5</th>\n",
       "      <td>CERAMIC BOWL WITH LOVE HEART DESIGN</td>\n",
       "      <td>1</td>\n",
       "      <td>36</td>\n",
       "    </tr>\n",
       "    <tr>\n",
       "      <th>6</th>\n",
       "      <td>CHILDREN'S APRON DOLLY GIRL</td>\n",
       "      <td>1</td>\n",
       "      <td>1</td>\n",
       "    </tr>\n",
       "    <tr>\n",
       "      <th>7</th>\n",
       "      <td>CHILDS BREAKFAST SET CIRCUS PARADE</td>\n",
       "      <td>1</td>\n",
       "      <td>1</td>\n",
       "    </tr>\n",
       "    <tr>\n",
       "      <th>8</th>\n",
       "      <td>CHRISTMAS PUDDING TRINKET POT</td>\n",
       "      <td>1</td>\n",
       "      <td>12</td>\n",
       "    </tr>\n",
       "    <tr>\n",
       "      <th>9</th>\n",
       "      <td>FAIRY CAKES NOTEBOOK A6 SIZE</td>\n",
       "      <td>1</td>\n",
       "      <td>16</td>\n",
       "    </tr>\n",
       "    <tr>\n",
       "      <th>10</th>\n",
       "      <td>GLASS CLOCHE SMALL</td>\n",
       "      <td>1</td>\n",
       "      <td>2</td>\n",
       "    </tr>\n",
       "    <tr>\n",
       "      <th>11</th>\n",
       "      <td>HANGING METAL HEART LANTERN</td>\n",
       "      <td>1</td>\n",
       "      <td>4</td>\n",
       "    </tr>\n",
       "    <tr>\n",
       "      <th>12</th>\n",
       "      <td>HEART GARLAND RUSTIC PADDED</td>\n",
       "      <td>1</td>\n",
       "      <td>2</td>\n",
       "    </tr>\n",
       "    <tr>\n",
       "      <th>13</th>\n",
       "      <td>JAM MAKING SET WITH JARS</td>\n",
       "      <td>1</td>\n",
       "      <td>11</td>\n",
       "    </tr>\n",
       "    <tr>\n",
       "      <th>14</th>\n",
       "      <td>JUMBO BAG SPACEBOY DESIGN</td>\n",
       "      <td>1</td>\n",
       "      <td>12</td>\n",
       "    </tr>\n",
       "    <tr>\n",
       "      <th>15</th>\n",
       "      <td>MINI CAKE STAND  HANGING STRAWBERY</td>\n",
       "      <td>1</td>\n",
       "      <td>5</td>\n",
       "    </tr>\n",
       "    <tr>\n",
       "      <th>16</th>\n",
       "      <td>MINI LIGHTS WOODLAND MUSHROOMS</td>\n",
       "      <td>1</td>\n",
       "      <td>1</td>\n",
       "    </tr>\n",
       "    <tr>\n",
       "      <th>17</th>\n",
       "      <td>Manual</td>\n",
       "      <td>6</td>\n",
       "      <td>6</td>\n",
       "    </tr>\n",
       "    <tr>\n",
       "      <th>18</th>\n",
       "      <td>ORGANISER WOOD ANTIQUE WHITE</td>\n",
       "      <td>1</td>\n",
       "      <td>1</td>\n",
       "    </tr>\n",
       "    <tr>\n",
       "      <th>19</th>\n",
       "      <td>PADS TO MATCH ALL CUSHIONS</td>\n",
       "      <td>1</td>\n",
       "      <td>1</td>\n",
       "    </tr>\n",
       "    <tr>\n",
       "      <th>20</th>\n",
       "      <td>PAPER BUNTING RETROSPOT</td>\n",
       "      <td>1</td>\n",
       "      <td>24</td>\n",
       "    </tr>\n",
       "    <tr>\n",
       "      <th>21</th>\n",
       "      <td>PAPER BUNTING VINTAGE PAISLEY</td>\n",
       "      <td>1</td>\n",
       "      <td>24</td>\n",
       "    </tr>\n",
       "    <tr>\n",
       "      <th>22</th>\n",
       "      <td>PARTY BUNTING</td>\n",
       "      <td>1</td>\n",
       "      <td>4</td>\n",
       "    </tr>\n",
       "    <tr>\n",
       "      <th>23</th>\n",
       "      <td>PASTEL COLOUR HONEYCOMB FAN</td>\n",
       "      <td>1</td>\n",
       "      <td>5</td>\n",
       "    </tr>\n",
       "    <tr>\n",
       "      <th>24</th>\n",
       "      <td>PLASTERS IN TIN SKULLS</td>\n",
       "      <td>1</td>\n",
       "      <td>24</td>\n",
       "    </tr>\n",
       "    <tr>\n",
       "      <th>25</th>\n",
       "      <td>POLKADOT RAIN HAT</td>\n",
       "      <td>1</td>\n",
       "      <td>144</td>\n",
       "    </tr>\n",
       "    <tr>\n",
       "      <th>26</th>\n",
       "      <td>RED KITCHEN SCALES</td>\n",
       "      <td>1</td>\n",
       "      <td>2</td>\n",
       "    </tr>\n",
       "    <tr>\n",
       "      <th>27</th>\n",
       "      <td>REGENCY CAKESTAND 3 TIER</td>\n",
       "      <td>1</td>\n",
       "      <td>10</td>\n",
       "    </tr>\n",
       "    <tr>\n",
       "      <th>28</th>\n",
       "      <td>ROUND CAKE TIN VINTAGE GREEN</td>\n",
       "      <td>1</td>\n",
       "      <td>1</td>\n",
       "    </tr>\n",
       "    <tr>\n",
       "      <th>29</th>\n",
       "      <td>SET OF 2 CERAMIC CHRISTMAS REINDEER</td>\n",
       "      <td>1</td>\n",
       "      <td>192</td>\n",
       "    </tr>\n",
       "    <tr>\n",
       "      <th>30</th>\n",
       "      <td>SET OF 2 CERAMIC PAINTED HEARTS</td>\n",
       "      <td>1</td>\n",
       "      <td>96</td>\n",
       "    </tr>\n",
       "    <tr>\n",
       "      <th>31</th>\n",
       "      <td>SET OF 2 TRAYS HOME SWEET HOME</td>\n",
       "      <td>1</td>\n",
       "      <td>2</td>\n",
       "    </tr>\n",
       "    <tr>\n",
       "      <th>32</th>\n",
       "      <td>SET OF 6 NATIVITY MAGNETS</td>\n",
       "      <td>1</td>\n",
       "      <td>240</td>\n",
       "    </tr>\n",
       "    <tr>\n",
       "      <th>33</th>\n",
       "      <td>SET OF 6 SOLDIER SKITTLES</td>\n",
       "      <td>1</td>\n",
       "      <td>80</td>\n",
       "    </tr>\n",
       "    <tr>\n",
       "      <th>34</th>\n",
       "      <td>SET OF 9 BLACK SKULL BALLOONS</td>\n",
       "      <td>1</td>\n",
       "      <td>20</td>\n",
       "    </tr>\n",
       "  </tbody>\n",
       "</table>\n",
       "</div>"
      ],
      "text/plain": [
       "                            Description  InvoiceNo  Quantity\n",
       "0            OVAL WALL MIRROR DIAMANTE           1         1\n",
       "1              36 FOIL STAR CAKE CASES           1       144\n",
       "2          ADVENT CALENDAR GINGHAM SACK          1         4\n",
       "3        ASSTD DESIGN 3D PAPER STICKERS          1     12540\n",
       "4         BISCUIT TIN VINTAGE CHRISTMAS          1       216\n",
       "5   CERAMIC BOWL WITH LOVE HEART DESIGN          1        36\n",
       "6          CHILDREN'S APRON DOLLY GIRL           1         1\n",
       "7    CHILDS BREAKFAST SET CIRCUS PARADE          1         1\n",
       "8        CHRISTMAS PUDDING TRINKET POT           1        12\n",
       "9          FAIRY CAKES NOTEBOOK A6 SIZE          1        16\n",
       "10                   GLASS CLOCHE SMALL          1         2\n",
       "11          HANGING METAL HEART LANTERN          1         4\n",
       "12          HEART GARLAND RUSTIC PADDED          1         2\n",
       "13             JAM MAKING SET WITH JARS          1        11\n",
       "14            JUMBO BAG SPACEBOY DESIGN          1        12\n",
       "15   MINI CAKE STAND  HANGING STRAWBERY          1         5\n",
       "16       MINI LIGHTS WOODLAND MUSHROOMS          1         1\n",
       "17                               Manual          6         6\n",
       "18        ORGANISER WOOD ANTIQUE WHITE           1         1\n",
       "19           PADS TO MATCH ALL CUSHIONS          1         1\n",
       "20              PAPER BUNTING RETROSPOT          1        24\n",
       "21        PAPER BUNTING VINTAGE PAISLEY          1        24\n",
       "22                        PARTY BUNTING          1         4\n",
       "23          PASTEL COLOUR HONEYCOMB FAN          1         5\n",
       "24               PLASTERS IN TIN SKULLS          1        24\n",
       "25                   POLKADOT RAIN HAT           1       144\n",
       "26                   RED KITCHEN SCALES          1         2\n",
       "27             REGENCY CAKESTAND 3 TIER          1        10\n",
       "28         ROUND CAKE TIN VINTAGE GREEN          1         1\n",
       "29  SET OF 2 CERAMIC CHRISTMAS REINDEER          1       192\n",
       "30     SET OF 2 CERAMIC PAINTED HEARTS           1        96\n",
       "31       SET OF 2 TRAYS HOME SWEET HOME          1         2\n",
       "32           SET OF 6 NATIVITY MAGNETS           1       240\n",
       "33            SET OF 6 SOLDIER SKITTLES          1        80\n",
       "34        SET OF 9 BLACK SKULL BALLOONS          1        20"
      ]
     },
     "execution_count": 116,
     "metadata": {},
     "output_type": "execute_result"
    }
   ],
   "source": [
    "#product yang nilai Unit Pricenya 0\n",
    "df_2[df_2['UnitPrice'] == 0].groupby('Description').agg({'InvoiceNo':'count','Quantity':'sum'}).reset_index()"
   ]
  },
  {
   "cell_type": "code",
   "execution_count": 168,
   "metadata": {},
   "outputs": [],
   "source": [
    "#remove unit price 0\n",
    "df_3 = df_2[df_2['UnitPrice'] > 0]"
   ]
  },
  {
   "cell_type": "markdown",
   "metadata": {},
   "source": [
    "## Exploratory Data Analysis"
   ]
  },
  {
   "cell_type": "code",
   "execution_count": null,
   "metadata": {},
   "outputs": [
    {
     "name": "stdout",
     "output_type": "stream",
     "text": [
      "Transaksi dari tanggal 2010-12-01 sampai dengan tanggal 2011-12-09\n",
      "====================================================================================================\n",
      "Jumlah Transaksi sebanyak 397884\n",
      "====================================================================================================\n",
      "Ada 4338 yang berbelanja selama periode tersebut\n"
     ]
    }
   ],
   "source": [
    "print(f\"Transaksi dari tanggal {df_3_3['InvoiceDate'].dt.date.min()} sampai dengan tanggal {df_3_3['InvoiceDate'].dt.date.max()}\")\n",
    "print(f\"=\"*100)\n",
    "print(f\"Jumlah Transaksi sebanyak {len(df_3_3)}\")\n",
    "print(f\"=\"*100)\n",
    "print(f\"Ada {df_3_3['CustomerID'].nunique()} yang berbelanja selama periode tersebut\")"
   ]
  },
  {
   "cell_type": "markdown",
   "metadata": {},
   "source": [
    "### Feature Engineering"
   ]
  },
  {
   "cell_type": "code",
   "execution_count": 180,
   "metadata": {},
   "outputs": [],
   "source": [
    "## add month_year\n",
    "df_3['MonthYear'] = df_3['InvoiceDate'].dt.to_period('M')\n",
    "\n",
    "## add time\n",
    "df_3['Time'] = df_3['InvoiceDate'].dt.time\n",
    "\n",
    "## add date\n",
    "df_3['TransactDate'] = df_3['InvoiceDate'].dt.date\n",
    "\n",
    "## extract hour transact\n",
    "df_3['HourTransact'] = df_3['InvoiceDate'].dt.hour\n",
    "\n",
    "## add transaction amount\n",
    "df_3['TransactAmount'] = df_3['UnitPrice'] * df_3['Quantity']"
   ]
  },
  {
   "cell_type": "code",
   "execution_count": 171,
   "metadata": {},
   "outputs": [
    {
     "data": {
      "image/png": "[encoded data removed]",
      "text/plain": [
       "<Figure size 1000x600 with 1 Axes>"
      ]
     },
     "metadata": {},
     "output_type": "display_data"
    }
   ],
   "source": [
    "# Customer distribution by Country\n",
    "plt.figure(figsize=(10, 6))\n",
    "top_countries = df_3['Country'].value_counts().head(10)  # Top 10 countries\n",
    "sns.barplot(x=top_countries.values, y=top_countries.index)\n",
    "plt.title(\"Top 10 Countries by Transaction Count\")\n",
    "plt.xlabel(\"Number of Transactions\")\n",
    "plt.ylabel(\"Country\")\n",
    "plt.show()"
   ]
  },
  {
   "cell_type": "code",
   "execution_count": 172,
   "metadata": {},
   "outputs": [
    {
     "data": {
      "image/png": "[encoded data removed]",
      "text/plain": [
       "<Figure size 1000x600 with 1 Axes>"
      ]
     },
     "metadata": {},
     "output_type": "display_data"
    }
   ],
   "source": [
    "# Transaction Trend Over Time (month-year)\n",
    "plt.figure(figsize=(10, 6))\n",
    "monthly_sales = df_3['MonthYear'].value_counts().sort_index()\n",
    "monthly_sales.plot(kind='line', marker='o', color='b')\n",
    "plt.title(\"Transaction Trend Over Time\")\n",
    "plt.xlabel(\"Month-Year\")\n",
    "plt.ylabel(\"Number of Transactions\")\n",
    "plt.xticks(rotation=45)\n",
    "plt.grid()\n",
    "plt.show()"
   ]
  },
  {
   "cell_type": "code",
   "execution_count": 173,
   "metadata": {},
   "outputs": [
    {
     "data": {
      "image/png": "[encoded data removed]",
      "text/plain": [
       "<Figure size 1000x600 with 1 Axes>"
      ]
     },
     "metadata": {},
     "output_type": "display_data"
    }
   ],
   "source": [
    "# Hourly transaction distribution\n",
    "plt.figure(figsize=(10, 6))\n",
    "sns.countplot(x='HourTransact', data=df_3, palette='coolwarm')\n",
    "plt.title(\"Transaction Count by Hour of the Day\")\n",
    "plt.xlabel(\"Hour\")\n",
    "plt.ylabel(\"Count\")\n",
    "plt.grid()\n",
    "plt.show()"
   ]
  },
  {
   "cell_type": "code",
   "execution_count": 174,
   "metadata": {},
   "outputs": [
    {
     "data": {
      "image/png": "[encoded data removed]",
      "text/plain": [
       "<Figure size 1000x600 with 1 Axes>"
      ]
     },
     "metadata": {},
     "output_type": "display_data"
    }
   ],
   "source": [
    "# Top Products Analysi\n",
    "top_products = df_3['Description'].value_counts().head(10)\n",
    "plt.figure(figsize=(10, 6))\n",
    "sns.barplot(y=top_products.index, x=top_products.values, palette=\"crest\")\n",
    "plt.title(\"Top 10 Products Sold\")\n",
    "plt.xlabel(\"Number of Transactions\")\n",
    "plt.ylabel(\"Product Description\")\n",
    "plt.show()"
   ]
  },
  {
   "cell_type": "code",
   "execution_count": 175,
   "metadata": {},
   "outputs": [
    {
     "data": {
      "image/png": "[encoded data removed]",
      "text/plain": [
       "<Figure size 1000x600 with 1 Axes>"
      ]
     },
     "metadata": {},
     "output_type": "display_data"
    }
   ],
   "source": [
    "# Top 10 customers by total spend\n",
    "top_customers = df_3.groupby('CustomerID')['TransactAmount'].sum().sort_values(ascending=False).head(10)\n",
    "plt.figure(figsize=(10, 6))\n",
    "sns.barplot(x=top_customers.index.astype(str), y=top_customers.values, palette=\"magma\")\n",
    "plt.title(\"Top 10 Customers by Total Spend\")\n",
    "plt.xlabel(\"Customer ID\")\n",
    "plt.ylabel(\"Total Spend\")\n",
    "plt.show()"
   ]
  },
  {
   "cell_type": "markdown",
   "metadata": {},
   "source": [
    "## RFM Analysis"
   ]
  },
  {
   "cell_type": "markdown",
   "metadata": {},
   "source": [
    "Untuk RFM Analysis, kita menggunakan variabel sebagai berikut:\n",
    "* Recency = Jumlah Hari dari terakhir kali customer berbelanja (initial date dari max transaction date)\n",
    "* Frequency = Jumlah Customer berbelanja (dari jumlah Invoice Number)\n",
    "* Monetary = Dari Average Transaction Value (Transaction Amount / Frequency)"
   ]
  },
  {
   "cell_type": "code",
   "execution_count": 199,
   "metadata": {},
   "outputs": [],
   "source": [
    "#set initial_date to Measure Recency\n",
    "initial_date = df_3['TransactDate'].max()\n",
    "\n",
    "#initiate table for RFM Analysis\n",
    "df_rfm = df_3.groupby(\n",
    "    ['CustomerID']\n",
    ").agg(\n",
    "    {\n",
    "        'InvoiceNo':'nunique', #Frequency = # of Unique InvoiceNo\n",
    "        'TransactAmount':'sum',\n",
    "        'TransactDate':lambda date: (initial_date - date.max()).days #Recency = # of Days since Last Trx\n",
    "    }\n",
    ").reset_index().rename({\n",
    "    'InvoiceNo':'Frequency',\n",
    "    'TransactAmount':'Amount',\n",
    "    'TransactDate':'Recency'\n",
    "}, axis=1)\n",
    "\n",
    "df_rfm['Monetary'] = df_rfm['Amount']/df_rfm['Frequency'] #Monetary = Average Transaction Value (Amount/Frequency)\n",
    "\n",
    "df_rfm.drop(columns=['Amount'], inplace=True)\n",
    "\n",
    "df_rfm = df_rfm.set_index('CustomerID') #Set index = CustomerID"
   ]
  },
  {
   "cell_type": "code",
   "execution_count": 268,
   "metadata": {},
   "outputs": [
    {
     "data": {
      "text/html": [
       "<div>\n",
       "<style scoped>\n",
       "    .dataframe tbody tr th:only-of-type {\n",
       "        vertical-align: middle;\n",
       "    }\n",
       "\n",
       "    .dataframe tbody tr th {\n",
       "        vertical-align: top;\n",
       "    }\n",
       "\n",
       "    .dataframe thead th {\n",
       "        text-align: right;\n",
       "    }\n",
       "</style>\n",
       "<table border=\"1\" class=\"dataframe\">\n",
       "  <thead>\n",
       "    <tr style=\"text-align: right;\">\n",
       "      <th></th>\n",
       "      <th>Frequency</th>\n",
       "      <th>Recency</th>\n",
       "      <th>Monetary</th>\n",
       "      <th>RecencyScore</th>\n",
       "      <th>FrequencyScore</th>\n",
       "      <th>MonetaryScore</th>\n",
       "      <th>score</th>\n",
       "      <th>segment</th>\n",
       "    </tr>\n",
       "    <tr>\n",
       "      <th>CustomerID</th>\n",
       "      <th></th>\n",
       "      <th></th>\n",
       "      <th></th>\n",
       "      <th></th>\n",
       "      <th></th>\n",
       "      <th></th>\n",
       "      <th></th>\n",
       "      <th></th>\n",
       "    </tr>\n",
       "  </thead>\n",
       "  <tbody>\n",
       "    <tr>\n",
       "      <th>12346</th>\n",
       "      <td>1</td>\n",
       "      <td>325</td>\n",
       "      <td>77,183.60</td>\n",
       "      <td>1</td>\n",
       "      <td>1</td>\n",
       "      <td>1</td>\n",
       "      <td>111</td>\n",
       "      <td>hibernating</td>\n",
       "    </tr>\n",
       "    <tr>\n",
       "      <th>12347</th>\n",
       "      <td>7</td>\n",
       "      <td>2</td>\n",
       "      <td>615.71</td>\n",
       "      <td>5</td>\n",
       "      <td>5</td>\n",
       "      <td>1</td>\n",
       "      <td>551</td>\n",
       "      <td>loyal_customers</td>\n",
       "    </tr>\n",
       "    <tr>\n",
       "      <th>12348</th>\n",
       "      <td>4</td>\n",
       "      <td>75</td>\n",
       "      <td>449.31</td>\n",
       "      <td>2</td>\n",
       "      <td>4</td>\n",
       "      <td>2</td>\n",
       "      <td>242</td>\n",
       "      <td>loyalist_at_risk</td>\n",
       "    </tr>\n",
       "    <tr>\n",
       "      <th>12349</th>\n",
       "      <td>1</td>\n",
       "      <td>18</td>\n",
       "      <td>1,757.55</td>\n",
       "      <td>4</td>\n",
       "      <td>1</td>\n",
       "      <td>1</td>\n",
       "      <td>411</td>\n",
       "      <td>new_customers</td>\n",
       "    </tr>\n",
       "    <tr>\n",
       "      <th>12350</th>\n",
       "      <td>1</td>\n",
       "      <td>310</td>\n",
       "      <td>334.40</td>\n",
       "      <td>1</td>\n",
       "      <td>1</td>\n",
       "      <td>3</td>\n",
       "      <td>113</td>\n",
       "      <td>hibernating</td>\n",
       "    </tr>\n",
       "  </tbody>\n",
       "</table>\n",
       "</div>"
      ],
      "text/plain": [
       "            Frequency  Recency  Monetary RecencyScore FrequencyScore  \\\n",
       "CustomerID                                                             \n",
       "12346               1      325 77,183.60            1              1   \n",
       "12347               7        2    615.71            5              5   \n",
       "12348               4       75    449.31            2              4   \n",
       "12349               1       18  1,757.55            4              1   \n",
       "12350               1      310    334.40            1              1   \n",
       "\n",
       "           MonetaryScore score           segment  \n",
       "CustomerID                                        \n",
       "12346                  1   111       hibernating  \n",
       "12347                  1   551   loyal_customers  \n",
       "12348                  2   242  loyalist_at_risk  \n",
       "12349                  1   411     new_customers  \n",
       "12350                  3   113       hibernating  "
      ]
     },
     "execution_count": 268,
     "metadata": {},
     "output_type": "execute_result"
    }
   ],
   "source": [
    "df_rfm.head()"
   ]
  },
  {
   "cell_type": "code",
   "execution_count": 206,
   "metadata": {},
   "outputs": [],
   "source": [
    "## Calculate recency score based on quantiles using 5 score\n",
    "df_rfm[\"RecencyScore\"] = pd.qcut(df_rfm['Recency'], 5, labels=[5, 4, 3, 2, 1])\n",
    "    \n",
    "## Calculate frequency score based on rank quantiles, assigning labels from 1 to 5 (1 being lowest)\n",
    "df_rfm[\"FrequencyScore\"] = pd.qcut(df_rfm[\"Frequency\"].rank(method=\"first\"), 5, labels=[1, 2, 3, 4, 5])\n",
    "\n",
    "## Calculate Monetary score based on quantiles using 5 score\n",
    "df_rfm[\"MonetaryScore\"] = pd.qcut(df_rfm['Monetary'], 5, labels=[5, 4, 3, 2, 1])\n",
    "\n",
    "## Calculate RFM Score\n",
    "df_rfm['score'] = df_rfm['RecencyScore'].astype(str) + df_rfm['FrequencyScore'].astype(str) + df_rfm['MonetaryScore'].astype(str)"
   ]
  },
  {
   "cell_type": "code",
   "execution_count": 265,
   "metadata": {},
   "outputs": [],
   "source": [
    "seg_map_rfm = {\n",
    "    r'[5][4-5][4-5]': 'champions',  # Customers who are recent, highly frequent, and high spenders\n",
    "    \n",
    "    # Loyal Customers: Recent, frequent, but moderate to low spenders\n",
    "    r'[5][4-5][1-3]': 'loyal_customers',  # Recent customers, frequent but lower spenders\n",
    "    \n",
    "    # Big Spender: Recent, low-to-moderate frequency, but high spenders\n",
    "    r'[5][1-3][4-5]': 'big_spender',  # Recent customers with low to moderate frequency but high spend\n",
    "    \n",
    "    # Potential Loyalists: Moderate recency and frequency, but high spenders\n",
    "    r'[3-4][3-5][4-5]': 'potential_loyalists',  # Moderately recent and frequent, but high spenders\n",
    "\n",
    "    # Need to Spend More: Moderate recency and frequency with lower spend\n",
    "    r'[3-4][3-5][1-3]': 'need_to_spend_more',  # Moderate recency and frequency with low-to-moderate spend\n",
    "\n",
    "    # Loyalists at Risk: Low recency, but high frequency and moderate spend\n",
    "    r'[1-2][4-5][1-5]': 'loyalist_at_risk',  # Low recency, high frequency, moderate spending behavior\n",
    "\n",
    "    # Hibernating: Low recency, low frequency, and low spend\n",
    "    r'[1-3][1-3][1-3]': 'hibernating',  # Inactive customers with low recency, low frequency, and low spend\n",
    "\n",
    "    # Hibernating Big Spenders: Low recency, low frequency, but high spenders\n",
    "    r'[1-3][1-3][4-5]': 'hibernating_big_spenders',  # Inactive customers with high spend but low frequency and recency\n",
    "    \n",
    "    # New Customers: Recent but low frequency and low spend\n",
    "    r'[4-5][1-3][1]': 'new_customers',  # Recently acquired customers with low frequency and low spend\n",
    "    \n",
    "    # Promising New Customers: Recent but low frequency and moderate spend\n",
    "    r'[4-5][1-3][2-3]': 'promising_new_customers',  # New customers with moderate spend potential\n",
    "    \n",
    "    # Promising: Recent, low frequency but high spenders\n",
    "    r'[4-5][1-2][4-5]': 'promising',  # New customers showing potential with high spending\n",
    "    \n",
    "    # Lost Customers: Low recency and low frequency, but high spenders\n",
    "    r'[1-2][1-2][4-5]': 'lost_customers',  # Customers with high spend but very low recent activity and frequency\n",
    "}\n",
    "\n",
    "df_rfm['segment'] = df_rfm['score'].replace(seg_map_rfm, regex=True)\n"
   ]
  },
  {
   "cell_type": "code",
   "execution_count": null,
   "metadata": {},
   "outputs": [],
   "source": []
  },
  {
   "cell_type": "code",
   "execution_count": null,
   "metadata": {},
   "outputs": [],
   "source": []
  },
  {
   "cell_type": "code",
   "execution_count": null,
   "metadata": {},
   "outputs": [],
   "source": []
  },
  {
   "cell_type": "code",
   "execution_count": null,
   "metadata": {},
   "outputs": [],
   "source": []
  }
 ],
 "metadata": {
  "kernelspec": {
   "display_name": "venv",
   "language": "python",
   "name": "python3"
  },
  "language_info": {
   "codemirror_mode": {
    "name": "ipython",
    "version": 3
   },
   "file_extension": ".py",
   "mimetype": "text/x-python",
   "name": "python",
   "nbconvert_exporter": "python",
   "pygments_lexer": "ipython3",
   "version": "3.10.11"
  }
 },
 "nbformat": 4,
 "nbformat_minor": 2
}
